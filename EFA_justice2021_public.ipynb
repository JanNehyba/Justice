{
 "cells": [
  {
   "cell_type": "markdown",
   "metadata": {},
   "source": [
    "## Explorativní faktorová analýza:\n",
    "### Sebehodnotící dotazník zaměřený na vnímání spravedlnosti ve vztahu k žákům u studentů učitelství "
   ]
  },
  {
   "cell_type": "markdown",
   "metadata": {},
   "source": [
    "**Podoba dotazníku:**\n",
    "\n",
    "*Procedurální - znamená, že tyto položky mají sytit vnímanou procedurální spravedlnost u studenta učitelství. Rovnost - odkazuje na distributivní spravedlnost založenou na rovném přerozdělení (Položka 17 je reverzně formulovaná). Potřeby - představují distributivní spravedlnost založenou na potřebách jedince. Zásluhy - reprezentují distributivní spravedlnost založenou na zásluhách a úsilí jedince.*\n",
    "\n",
    "**Instrukce k zdávání dotazníku:**\n",
    "\n",
    "*Následující výroky popisují určité typy chování učitele vzhledem k jeho žákům. Zkuste prosím u každého výroku posoudit, nakolik s ním souhlasíte či nesouhlasíte. Výroky budete hodnotit na následující škále: Silně NEsouhlasím - 1;\tNEsouhlasím - 2; Spíše NEsouhlasím - 3;\tAni NEsouhlasím, ani souhlasím - 4;\tSpíše souhlasím - 5; Souhlasím - 6;\tSilně souhlasím - 7.*\n",
    "\n",
    "| Pořadí a kategorie | Položka |\n",
    "| --- | --- | \n",
    "| 1Procedurální | Na začátku roku je pro mě důležité zřetelně stanovit pravidla fungování ve třídě. |\n",
    "| 2Procedurální | Žákům jasně vysvětlím, na co kladu důraz při ústním zkoušení. |\n",
    "| 3Rovnost | Věnuji každému žákovi stejné množství času při ústní zkoušce. |\n",
    "| 4Potřeby | Pokud žák prochází obtížnou životní situací, jako je například rozvod rodičů a podobně, při hodnocení jeho situaci zohledňuji. |\n",
    "| 5Potřeby | Věnuji více péče žákovi, který to podle mě nejvíce potřebuje. |\n",
    "| 6Procedurální | Své žáky předem seznámím s tím, jakým způsobem řeším případné konflikty ve třídě. |\n",
    "| 7Procedurální | Žákům sdělím, že mohou kdykoliv konzultovat nesrovnalosti ve vyhodnocení písemky. |\n",
    "| 8Procedurální\t| Žákům předem oznamuji, jaká jsou kritéria pro hodnocení jejich písemných prací. |\n",
    "| 9Potřeby | Při hodnocení zohledňuji, zda je pro konkrétního žáka předmět obtížný. |\n",
    "| 10Rovnost | Věnuji problémům každého žáka stejnou míru pozornosti. |\n",
    "| 11Potřeby | Žákovi, který má dlouhodobý problém s pochopením učiva, zadávám jiné domácí úkoly než ostatním žákům. |\n",
    "| 12Zásluhy | Žáky, kteří stihnou práci v hodině před termínem, oceňuji (například si žák může pracovat v hodině na svých věcech). |\n",
    "| 13Zásluhy | Pokud žák během výuky splní úkol navíc, tak jeho snahu patřičně ocením. |\n",
    "| 14Rovnost | Všem žákům věnuji stejnou míru pozornosti. |\n",
    "| 15Rovnost | Při hodnocení chování každého žáka používám vždy stejná kritéria. |\n",
    "| 16Potřeby\t| Žákovi, který byl nemocný, dám čas navíc, aby se mohl látku doučit. |\n",
    "| 17Rovnost_r\t| S některými žáky zacházím jinak než s ostatními. | \n",
    "| 18Potřeby\t| Zpočátku bych přizpůsobil hodnocení žáka, který by přišel do třídy z jiné školy. |\n",
    "| 19Zásluhy\t| Výjimečnou snahu žáka v hodině ocením odpovídajícím způsobem. |\n",
    "| 20Zásluhy\t| Oceňuji žáka, který úspěšně reprezentuje školu na vědomostní soutěži. |\n",
    "| 21Zásluhy\t| Dávám uznání žákovi, který projevil snahu nad rámec zadaného úkolu. |\n",
    "| 22Rovnost\t| Při zkoušení vyvolávám všechny žáky rovnoměrně. |\n",
    "| 23Procedurální | Vysvětlím žákům, jak si mají dávat vrstevnickou zpětnou vazbu, například při vzájemném hodnocení prací. |\n",
    "| 24Procedurální | Žákům dávám prostor pro spoluvytvoření si pravidel chování ve třídě. |\n",
    "| 25Zásluhy | Oceňuji žáka, který dokáže zrealizovat nejrůznější třídní aktivity. |\n",
    "| 26Procedurální | Je pro mě důležité, abych měl pro žáky jasná kritéria, podle kterých je hodnotím. |"
   ]
  },
  {
   "cell_type": "code",
   "execution_count": null,
   "metadata": {},
   "outputs": [],
   "source": [
    "# Instalace potřebných balíčků jazyka R\n",
    "install.packages(\"psych\", repos='http://cran.us.r-project.org')\n",
    "install.packages('GPArotation', repos='http://cran.us.r-project.org')\n",
    "install.packages(\"data.table\", repos='http://cran.us.r-project.org')\n",
    "install.packages(\"Rcsdp\", repos='http://cran.us.r-project.org')\n",
    "install.packages(\"car\", repos='http://cran.us.r-project.org')\n",
    "install.packages(\"httr\", repos='http://cran.us.r-project.org')\n",
    "library(Rcsdp)\n",
    "library(car)\n",
    "library(httr)\n",
    "library(data.table)\n",
    "library(GPArotation)\n",
    "library(psych)"
   ]
  },
  {
   "cell_type": "code",
   "execution_count": 3,
   "metadata": {},
   "outputs": [],
   "source": [
    "# Načtení dat z GitHubu (reverzní pložka je již překódovaná):\n",
    "j_datafin <-read.csv(\"https://raw.githubusercontent.com/JanNehyba/Justice/main/j_data.csv\",encoding = \"latin-1\", header=T)"
   ]
  },
  {
   "cell_type": "code",
   "execution_count": 6,
   "metadata": {},
   "outputs": [],
   "source": [
    "j_datafin[1] <- NULL"
   ]
  },
  {
   "cell_type": "code",
   "execution_count": 7,
   "metadata": {},
   "outputs": [
    {
     "data": {
      "text/html": [
       "<table>\n",
       "<thead><tr><th scope=col>X1Procedurální</th><th scope=col>X2Procedurální</th><th scope=col>X3Rovnost</th><th scope=col>X4Potřeby</th><th scope=col>X5Potřeby</th><th scope=col>X6Procedurální</th><th scope=col>X7Procedurální</th><th scope=col>X8Procedurální</th><th scope=col>X9Potřeby</th><th scope=col>X10Rovnost</th><th scope=col>...</th><th scope=col>X17Rovnost</th><th scope=col>X18Potřeby</th><th scope=col>X19Zásluhy</th><th scope=col>X20Zásluhy</th><th scope=col>X21Zásluhy</th><th scope=col>X22Rovnost</th><th scope=col>X23Procedurální</th><th scope=col>X24Procedurální</th><th scope=col>X25Zásluhy</th><th scope=col>X26Procedurální</th></tr></thead>\n",
       "<tbody>\n",
       "\t<tr><td>7  </td><td>7  </td><td>4  </td><td>4  </td><td>3  </td><td>3  </td><td>5  </td><td>7  </td><td>1  </td><td>7  </td><td>...</td><td>6  </td><td>2  </td><td>7  </td><td>7  </td><td>7  </td><td>7  </td><td>1  </td><td>2  </td><td>5  </td><td>6  </td></tr>\n",
       "\t<tr><td>6  </td><td>5  </td><td>7  </td><td>5  </td><td>6  </td><td>5  </td><td>7  </td><td>6  </td><td>3  </td><td>5  </td><td>...</td><td>5  </td><td>4  </td><td>4  </td><td>4  </td><td>5  </td><td>6  </td><td>6  </td><td>7  </td><td>4  </td><td>6  </td></tr>\n",
       "\t<tr><td>6  </td><td>6  </td><td>4  </td><td>6  </td><td>4  </td><td>6  </td><td>7  </td><td>7  </td><td>2  </td><td>5  </td><td>...</td><td>2  </td><td>6  </td><td>6  </td><td>6  </td><td>6  </td><td>6  </td><td>6  </td><td>6  </td><td>7  </td><td>7  </td></tr>\n",
       "\t<tr><td>7  </td><td>7  </td><td>5  </td><td>7  </td><td>7  </td><td>6  </td><td>7  </td><td>7  </td><td>3  </td><td>7  </td><td>...</td><td>5  </td><td>6  </td><td>6  </td><td>6  </td><td>5  </td><td>5  </td><td>7  </td><td>7  </td><td>7  </td><td>7  </td></tr>\n",
       "\t<tr><td>7  </td><td>7  </td><td>5  </td><td>4  </td><td>4  </td><td>5  </td><td>7  </td><td>7  </td><td>2  </td><td>4  </td><td>...</td><td>3  </td><td>5  </td><td>6  </td><td>7  </td><td>7  </td><td>4  </td><td>5  </td><td>6  </td><td>6  </td><td>7  </td></tr>\n",
       "\t<tr><td>7  </td><td>6  </td><td>5  </td><td>4  </td><td>5  </td><td>4  </td><td>7  </td><td>7  </td><td>4  </td><td>4  </td><td>...</td><td>4  </td><td>5  </td><td>7  </td><td>7  </td><td>7  </td><td>7  </td><td>6  </td><td>7  </td><td>7  </td><td>7  </td></tr>\n",
       "</tbody>\n",
       "</table>\n"
      ],
      "text/latex": [
       "\\begin{tabular}{r|llllllllllllllllllllllllll}\n",
       " X1Procedurální & X2Procedurální & X3Rovnost & X4Potřeby & X5Potřeby & X6Procedurální & X7Procedurální & X8Procedurální & X9Potřeby & X10Rovnost & ... & X17Rovnost & X18Potřeby & X19Zásluhy & X20Zásluhy & X21Zásluhy & X22Rovnost & X23Procedurální & X24Procedurální & X25Zásluhy & X26Procedurální\\\\\n",
       "\\hline\n",
       "\t 7   & 7   & 4   & 4   & 3   & 3   & 5   & 7   & 1   & 7   & ... & 6   & 2   & 7   & 7   & 7   & 7   & 1   & 2   & 5   & 6  \\\\\n",
       "\t 6   & 5   & 7   & 5   & 6   & 5   & 7   & 6   & 3   & 5   & ... & 5   & 4   & 4   & 4   & 5   & 6   & 6   & 7   & 4   & 6  \\\\\n",
       "\t 6   & 6   & 4   & 6   & 4   & 6   & 7   & 7   & 2   & 5   & ... & 2   & 6   & 6   & 6   & 6   & 6   & 6   & 6   & 7   & 7  \\\\\n",
       "\t 7   & 7   & 5   & 7   & 7   & 6   & 7   & 7   & 3   & 7   & ... & 5   & 6   & 6   & 6   & 5   & 5   & 7   & 7   & 7   & 7  \\\\\n",
       "\t 7   & 7   & 5   & 4   & 4   & 5   & 7   & 7   & 2   & 4   & ... & 3   & 5   & 6   & 7   & 7   & 4   & 5   & 6   & 6   & 7  \\\\\n",
       "\t 7   & 6   & 5   & 4   & 5   & 4   & 7   & 7   & 4   & 4   & ... & 4   & 5   & 7   & 7   & 7   & 7   & 6   & 7   & 7   & 7  \\\\\n",
       "\\end{tabular}\n"
      ],
      "text/markdown": [
       "\n",
       "X1Procedurální | X2Procedurální | X3Rovnost | X4Potřeby | X5Potřeby | X6Procedurální | X7Procedurální | X8Procedurální | X9Potřeby | X10Rovnost | ... | X17Rovnost | X18Potřeby | X19Zásluhy | X20Zásluhy | X21Zásluhy | X22Rovnost | X23Procedurální | X24Procedurální | X25Zásluhy | X26Procedurální | \n",
       "|---|---|---|---|---|---|\n",
       "| 7   | 7   | 4   | 4   | 3   | 3   | 5   | 7   | 1   | 7   | ... | 6   | 2   | 7   | 7   | 7   | 7   | 1   | 2   | 5   | 6   | \n",
       "| 6   | 5   | 7   | 5   | 6   | 5   | 7   | 6   | 3   | 5   | ... | 5   | 4   | 4   | 4   | 5   | 6   | 6   | 7   | 4   | 6   | \n",
       "| 6   | 6   | 4   | 6   | 4   | 6   | 7   | 7   | 2   | 5   | ... | 2   | 6   | 6   | 6   | 6   | 6   | 6   | 6   | 7   | 7   | \n",
       "| 7   | 7   | 5   | 7   | 7   | 6   | 7   | 7   | 3   | 7   | ... | 5   | 6   | 6   | 6   | 5   | 5   | 7   | 7   | 7   | 7   | \n",
       "| 7   | 7   | 5   | 4   | 4   | 5   | 7   | 7   | 2   | 4   | ... | 3   | 5   | 6   | 7   | 7   | 4   | 5   | 6   | 6   | 7   | \n",
       "| 7   | 6   | 5   | 4   | 5   | 4   | 7   | 7   | 4   | 4   | ... | 4   | 5   | 7   | 7   | 7   | 7   | 6   | 7   | 7   | 7   | \n",
       "\n",
       "\n"
      ],
      "text/plain": [
       "  X1Procedurální X2Procedurální X3Rovnost X4Potřeby X5Potřeby X6Procedurální\n",
       "1 7              7              4         4         3         3             \n",
       "2 6              5              7         5         6         5             \n",
       "3 6              6              4         6         4         6             \n",
       "4 7              7              5         7         7         6             \n",
       "5 7              7              5         4         4         5             \n",
       "6 7              6              5         4         5         4             \n",
       "  X7Procedurální X8Procedurální X9Potřeby X10Rovnost ... X17Rovnost X18Potřeby\n",
       "1 5              7              1         7          ... 6          2         \n",
       "2 7              6              3         5          ... 5          4         \n",
       "3 7              7              2         5          ... 2          6         \n",
       "4 7              7              3         7          ... 5          6         \n",
       "5 7              7              2         4          ... 3          5         \n",
       "6 7              7              4         4          ... 4          5         \n",
       "  X19Zásluhy X20Zásluhy X21Zásluhy X22Rovnost X23Procedurální X24Procedurální\n",
       "1 7          7          7          7          1               2              \n",
       "2 4          4          5          6          6               7              \n",
       "3 6          6          6          6          6               6              \n",
       "4 6          6          5          5          7               7              \n",
       "5 6          7          7          4          5               6              \n",
       "6 7          7          7          7          6               7              \n",
       "  X25Zásluhy X26Procedurální\n",
       "1 5          6              \n",
       "2 4          6              \n",
       "3 7          7              \n",
       "4 7          7              \n",
       "5 6          7              \n",
       "6 7          7              "
      ]
     },
     "metadata": {},
     "output_type": "display_data"
    }
   ],
   "source": [
    "head(j_datafin)"
   ]
  },
  {
   "cell_type": "code",
   "execution_count": 8,
   "metadata": {},
   "outputs": [
    {
     "name": "stderr",
     "output_type": "stream",
     "text": [
      "Warning message in abbreviate(colnames(R), minlength = minlength):\n",
      "\"abbreviate used with non-ASCII chars\""
     ]
    },
    {
     "data": {
      "text/plain": [
       "Call: polychoric(x = j_datafin)\n",
       "Polychoric correlations \n",
       "                X1Prc X2Prc X3Rvn X4Ptř X5Ptř X6Prc X7Prc X8Prc X9Ptř X10Rv\n",
       "X1Procedurální   1.00                                                      \n",
       "X2Procedurální   0.36  1.00                                                \n",
       "X3Rovnost        0.20  0.26  1.00                                          \n",
       "X4Potřeby        0.07  0.05  0.20  1.00                                    \n",
       "X5Potřeby        0.01  0.08  0.09  0.32  1.00                              \n",
       "X6Procedurální   0.38  0.41  0.19  0.15  0.19  1.00                        \n",
       "X7Procedurální   0.20  0.23  0.13  0.04  0.14  0.37  1.00                  \n",
       "X8Procedurální   0.38  0.47  0.19  0.08  0.05  0.33  0.43  1.00            \n",
       "X9Potřeby        0.09 -0.05  0.19  0.43  0.37  0.23  0.11  0.10  1.00      \n",
       "X10Rovnost       0.20  0.25  0.35  0.13  0.00  0.29  0.31  0.29  0.09  1.00\n",
       "X11Potřeby       0.04 -0.01  0.00  0.10  0.24  0.09  0.04  0.07  0.35  0.10\n",
       "X12Zásluhy       0.21  0.21  0.09  0.09  0.06  0.16  0.14  0.18 -0.02  0.08\n",
       "X13Zásluhy       0.25  0.23  0.04  0.13  0.10  0.19  0.21  0.26  0.11  0.12\n",
       "X14Rovnost       0.14  0.13  0.48  0.10 -0.16  0.15  0.13  0.19 -0.03  0.51\n",
       "X15Rovnost       0.16  0.08  0.26 -0.01 -0.08  0.06  0.05  0.18 -0.05  0.28\n",
       "X16Potřeby       0.13  0.04  0.10  0.29  0.27  0.09  0.11  0.17  0.28  0.06\n",
       "X17Rovnost       0.08  0.00  0.26 -0.10 -0.26 -0.01  0.07  0.05 -0.10  0.19\n",
       "X18Potřeby       0.11  0.02  0.04  0.38  0.23  0.12  0.05  0.09  0.36  0.05\n",
       "X19Zásluhy       0.24  0.21  0.04  0.18  0.04  0.24  0.21  0.30  0.15  0.23\n",
       "X20Zásluhy       0.17  0.22  0.01  0.07  0.05  0.17  0.02  0.25  0.02  0.13\n",
       "X21Zásluhy       0.22  0.23  0.00  0.18  0.05  0.23  0.16  0.29  0.14  0.18\n",
       "X22Rovnost       0.26  0.21  0.29 -0.03 -0.07  0.18  0.21  0.23  0.04  0.24\n",
       "X23Procedurální  0.30  0.34  0.20  0.12  0.15  0.38  0.36  0.42  0.26  0.36\n",
       "X24Procedurální  0.31  0.20  0.03  0.06  0.04  0.35  0.28  0.28  0.13  0.13\n",
       "X25Zásluhy       0.23  0.21  0.07  0.18  0.10  0.22  0.23  0.26  0.13  0.12\n",
       "X26Procedurální  0.41  0.29  0.31 -0.06 -0.02  0.27  0.24  0.44 -0.01  0.04\n",
       "                X11Pt\n",
       "X1Procedurální       \n",
       "X2Procedurální       \n",
       "X3Rovnost            \n",
       "X4Potřeby            \n",
       "X5Potřeby            \n",
       "X6Procedurální       \n",
       "X7Procedurální       \n",
       "X8Procedurální       \n",
       "X9Potřeby            \n",
       "X10Rovnost           \n",
       "X11Potřeby       1.00\n",
       "X12Zásluhy       0.11\n",
       "X13Zásluhy       0.14\n",
       "X14Rovnost      -0.08\n",
       "X15Rovnost      -0.03\n",
       "X16Potřeby       0.24\n",
       "X17Rovnost      -0.20\n",
       "X18Potřeby       0.28\n",
       "X19Zásluhy       0.15\n",
       "X20Zásluhy       0.11\n",
       "X21Zásluhy       0.22\n",
       "X22Rovnost      -0.07\n",
       "X23Procedurální  0.11\n",
       "X24Procedurální  0.18\n",
       "X25Zásluhy       0.05\n",
       "X26Procedurální  0.05\n",
       "                X12Zs X13Zs X14Rv X15Rv X16Pt X17Rv X18Pt X19Zs X20Zs X21Zs\n",
       "X12Zásluhy       1.00                                                      \n",
       "X13Zásluhy       0.45  1.00                                                \n",
       "X14Rovnost       0.09  0.00  1.00                                          \n",
       "X15Rovnost       0.11  0.17  0.45  1.00                                    \n",
       "X16Potřeby       0.04  0.24  0.04  0.13  1.00                              \n",
       "X17Rovnost       0.02 -0.09  0.32  0.24 -0.21  1.00                        \n",
       "X18Potřeby      -0.01  0.16 -0.03 -0.02  0.48 -0.29  1.00                  \n",
       "X19Zásluhy       0.26  0.65  0.10  0.13  0.22 -0.06  0.28  1.00            \n",
       "X20Zásluhy       0.17  0.45  0.01  0.02  0.16 -0.17  0.16  0.55  1.00      \n",
       "X21Zásluhy       0.24  0.63  0.03  0.06  0.28 -0.13  0.24  0.69  0.59  1.00\n",
       "X22Rovnost       0.19  0.15  0.38  0.27  0.08  0.27  0.05  0.30  0.12  0.16\n",
       "X23Procedurální  0.10  0.17  0.18 -0.01  0.06 -0.01  0.10  0.24  0.15  0.19\n",
       "X24Procedurální  0.17  0.23  0.05 -0.04  0.18 -0.05  0.06  0.25  0.15  0.24\n",
       "X25Zásluhy       0.10  0.41  0.01  0.06  0.31 -0.10  0.17  0.46  0.51  0.50\n",
       "X26Procedurální  0.17  0.13  0.10  0.18  0.02  0.13 -0.09  0.16  0.14  0.13\n",
       "                X22Rv\n",
       "X12Zásluhy           \n",
       "X13Zásluhy           \n",
       "X14Rovnost           \n",
       "X15Rovnost           \n",
       "X16Potřeby           \n",
       "X17Rovnost           \n",
       "X18Potřeby           \n",
       "X19Zásluhy           \n",
       "X20Zásluhy           \n",
       "X21Zásluhy           \n",
       "X22Rovnost       1.00\n",
       "X23Procedurální  0.30\n",
       "X24Procedurální  0.07\n",
       "X25Zásluhy       0.18\n",
       "X26Procedurální  0.25\n",
       "                X23Pr X24Pr X25Zs X26Pr\n",
       "X23Procedurální  1.00                  \n",
       "X24Procedurální  0.34  1.00            \n",
       "X25Zásluhy       0.34  0.25  1.00      \n",
       "X26Procedurální  0.20  0.15  0.16  1.00\n",
       "\n",
       " with tau of \n",
       "                   1     2       3     4       5      6\n",
       "X1Procedurální  -Inf -2.76 -2.3794 -1.75 -1.0731  0.175\n",
       "X2Procedurální  -Inf -2.76 -2.5253 -1.40 -0.5145  0.309\n",
       "X3Rovnost       -2.4 -1.65 -0.9408 -0.32  0.3551  1.011\n",
       "X4Potřeby       -2.3 -1.78 -1.1399 -0.32  0.4175  1.243\n",
       "X5Potřeby       -2.4 -1.78 -1.2588 -0.39  0.7160  1.626\n",
       "X6Procedurální  -Inf -1.90 -1.2588 -0.62  0.1381  1.099\n",
       "X7Procedurální  -2.8 -2.76 -2.1121 -1.42 -0.9752 -0.043\n",
       "X8Procedurální  -Inf  -Inf -2.3794 -1.82 -1.1399 -0.058\n",
       "X9Potřeby       -1.4 -0.63 -0.0072  0.51  1.1681  1.855\n",
       "X10Rovnost      -2.5 -1.99 -1.4184 -0.77 -0.1381  0.803\n",
       "X11Potřeby      -1.7 -0.89 -0.3397  0.23  1.0992  1.943\n",
       "X12Zásluhy      -2.4 -1.86 -1.3799 -0.73  0.1821  1.140\n",
       "X13Zásluhy      -Inf -2.53 -1.9932 -1.46 -0.4096  0.725\n",
       "X14Rovnost      -2.5 -1.78 -1.1399 -0.66 -0.0072  0.941\n",
       "X15Rovnost      -2.5 -1.78 -1.0603 -0.62  0.0217  0.833\n",
       "X16Potřeby      -2.8 -2.38 -1.7453 -1.33 -0.3244  0.783\n",
       "X17Rovnost      -1.7 -0.99 -0.2191  0.29  0.7349  1.503\n",
       "X18Potřeby      -2.2 -1.53 -0.9075 -0.32  0.5394  1.459\n",
       "X19Zásluhy      -Inf -2.53 -2.1848 -1.60 -0.4096  0.783\n",
       "X20Zásluhy      -2.5 -2.38 -2.1848 -1.27 -0.4735  0.716\n",
       "X21Zásluhy      -Inf -2.27 -2.1848 -1.55 -0.5311  0.531\n",
       "X22Rovnost      -2.8 -2.27 -1.6533 -1.27 -0.5394  0.324\n",
       "X23Procedurální -2.4 -2.38 -1.9429 -1.13 -0.5062  0.539\n",
       "X24Procedurální -2.8 -2.38 -1.7796 -1.46 -0.5145  0.482\n",
       "X25Zásluhy      -Inf  -Inf -2.7600 -1.65 -0.5647  0.590\n",
       "X26Procedurální -2.5 -2.18 -1.8972 -1.31 -0.6430  0.249"
      ]
     },
     "metadata": {},
     "output_type": "display_data"
    }
   ],
   "source": [
    "# Výpočet polychorické korelace, škálu 1-7 je možné považovat za ordinální a pro tyto případy použijeme polychorickou korelaci. \n",
    "justice_poly = polychoric(j_datafin)\n",
    "justice_poly"
   ]
  },
  {
   "cell_type": "code",
   "execution_count": 52,
   "metadata": {},
   "outputs": [
    {
     "name": "stderr",
     "output_type": "stream",
     "text": [
      "Installing package into 'C:/Users/Nehyba/Documents/R/win-library/3.5'\n",
      "(as 'lib' is unspecified)\n"
     ]
    },
    {
     "name": "stdout",
     "output_type": "stream",
     "text": [
      "package 'ggcorrplot' successfully unpacked and MD5 sums checked\n",
      "\n",
      "The downloaded binary packages are in\n",
      "\tC:\\Users\\Nehyba\\AppData\\Local\\Temp\\RtmpYR7AX7\\downloaded_packages\n"
     ]
    },
    {
     "name": "stderr",
     "output_type": "stream",
     "text": [
      "Warning message:\n",
      "\"package 'ggcorrplot' was built under R version 3.5.3\"Loading required package: ggplot2\n",
      "\n",
      "Attaching package: 'ggplot2'\n",
      "\n",
      "The following objects are masked from 'package:psych':\n",
      "\n",
      "    %+%, alpha\n",
      "\n"
     ]
    }
   ],
   "source": [
    "# Knihovna pro vykreslení polychorické korealce\n",
    "install.packages(\"ggcorrplot\", repos='http://cran.us.r-project.org')\n",
    "library(ggcorrplot)"
   ]
  },
  {
   "cell_type": "code",
   "execution_count": 55,
   "metadata": {},
   "outputs": [],
   "source": [
    "# Příprava na vykreslení matice\n",
    "j_datafin_correl <- mixedCor(j_datafin, c=NULL, p=1:26)"
   ]
  },
  {
   "cell_type": "code",
   "execution_count": 56,
   "metadata": {},
   "outputs": [
    {
     "data": {
      "image/png": "[encoded data removed]",
      "text/plain": [
       "plot without title"
      ]
     },
     "metadata": {},
     "output_type": "display_data"
    }
   ],
   "source": [
    "# Příprava na vykreslení matice\n",
    "j_polychoric <-  j_datafin_correl$rho\n",
    "\n",
    "# Vykreslení\n",
    "library(ggcorrplot)\n",
    "ggcorrplot(j_polychoric, hc.order = TRUE, type = \"lower\", lab = TRUE,  lab_size =2)"
   ]
  },
  {
   "cell_type": "code",
   "execution_count": 57,
   "metadata": {},
   "outputs": [
    {
     "data": {
      "text/plain": [
       "Kaiser-Meyer-Olkin factor adequacy\n",
       "Call: KMO(r = j_polychoric)\n",
       "Overall MSA =  0.8\n",
       "MSA for each item = \n",
       " X1Procedurální  X2Procedurální       X3Rovnost       X4Potřeby       X5Potřeby \n",
       "           0.88            0.82            0.72            0.73            0.74 \n",
       " X6Procedurální  X7Procedurální  X8Procedurální       X9Potřeby      X10Rovnost \n",
       "           0.86            0.78            0.84            0.72            0.78 \n",
       "     X11Potřeby      X12Zásluhy      X13Zásluhy      X14Rovnost      X15Rovnost \n",
       "           0.68            0.74            0.81            0.73            0.72 \n",
       "     X16Potřeby      X17Rovnost      X18Potřeby      X19Zásluhy      X20Zásluhy \n",
       "           0.77            0.80            0.76            0.86            0.83 \n",
       "     X21Zásluhy      X22Rovnost X23Procedurální X24Procedurální      X25Zásluhy \n",
       "           0.88            0.80            0.83            0.83            0.84 \n",
       "X26Procedurální \n",
       "           0.70 "
      ]
     },
     "metadata": {},
     "output_type": "display_data"
    }
   ],
   "source": [
    "# KMO test\n",
    "KMO(j_polychoric)"
   ]
  },
  {
   "cell_type": "code",
   "execution_count": 58,
   "metadata": {},
   "outputs": [
    {
     "name": "stderr",
     "output_type": "stream",
     "text": [
      "Warning message in cortest.bartlett(j_polychoric):\n",
      "\"n not specified, 100 used\""
     ]
    },
    {
     "data": {
      "text/html": [
       "<dl>\n",
       "\t<dt>$chisq</dt>\n",
       "\t\t<dd>797.919037910914</dd>\n",
       "\t<dt>$p.value</dt>\n",
       "\t\t<dd>1.05559770137492e-41</dd>\n",
       "\t<dt>$df</dt>\n",
       "\t\t<dd>325</dd>\n",
       "</dl>\n"
      ],
      "text/latex": [
       "\\begin{description}\n",
       "\\item[\\$chisq] 797.919037910914\n",
       "\\item[\\$p.value] 1.05559770137492e-41\n",
       "\\item[\\$df] 325\n",
       "\\end{description}\n"
      ],
      "text/markdown": [
       "$chisq\n",
       ":   797.919037910914\n",
       "$p.value\n",
       ":   1.05559770137492e-41\n",
       "$df\n",
       ":   325\n",
       "\n",
       "\n"
      ],
      "text/plain": [
       "$chisq\n",
       "[1] 797.919\n",
       "\n",
       "$p.value\n",
       "[1] 1.055598e-41\n",
       "\n",
       "$df\n",
       "[1] 325\n"
      ]
     },
     "metadata": {},
     "output_type": "display_data"
    }
   ],
   "source": [
    "# Bartlettův test pro korelační matici\n",
    "cortest.bartlett(j_polychoric)"
   ]
  },
  {
   "cell_type": "code",
   "execution_count": 13,
   "metadata": {},
   "outputs": [
    {
     "data": {
      "image/png": "[encoded data removed]",
      "text/plain": [
       "Plot with title \"Scree plot\""
      ]
     },
     "metadata": {},
     "output_type": "display_data"
    }
   ],
   "source": [
    "# Scree graf\n",
    "scree(j_datafin)"
   ]
  },
  {
   "cell_type": "code",
   "execution_count": 14,
   "metadata": {},
   "outputs": [
    {
     "name": "stdout",
     "output_type": "stream",
     "text": [
      "Parallel analysis suggests that the number of factors =  4  and the number of components =  4 \n"
     ]
    },
    {
     "data": {
      "image/png": "[encoded data removed]",
      "text/plain": [
       "Plot with title \"Parallel Analysis Scree Plots\""
      ]
     },
     "metadata": {},
     "output_type": "display_data"
    }
   ],
   "source": [
    "# Paralelní analýza počtu faktorů:\n",
    "fa.parallel(j_datafin)"
   ]
  },
  {
   "cell_type": "code",
   "execution_count": 15,
   "metadata": {},
   "outputs": [],
   "source": [
    "# Výpočet faktorové analýzy s různými rotacemi, výsledky jsou však obdobné. Liší se předně v míře kumulativní variance.\n",
    "factors_data_4poly <- fa(r = j_datafin, nfactors = 4,  cor=\"poly\", n.obs = 346, fm=\"minres\") #rotate=\"varimax\"\n",
    "factors_data_4polyvar <- fa(r = j_datafin, nfactors = 4,  cor=\"poly\", n.obs = 346,fm=\"minres\", rotate=\"varimax\") #rotate=\"varimax\"\n",
    "factors_data_4polyob <- fa(r = j_datafin, nfactors = 4,  cor=\"poly\", n.obs = 346,fm=\"minres\", rotate=\"oblimin\") #rotate=\"varimax\""
   ]
  },
  {
   "cell_type": "code",
   "execution_count": 16,
   "metadata": {},
   "outputs": [
    {
     "data": {
      "text/plain": [
       "Factor Analysis using method =  minres\n",
       "Call: fa(r = j_datafin, nfactors = 4, n.obs = 346, fm = \"minres\", cor = \"poly\")\n",
       "Standardized loadings (pattern matrix) based upon correlation matrix\n",
       "                  MR1   MR4   MR3   MR2   h2   u2 com\n",
       "X1Procedurální   0.11  0.51 -0.05  0.07 0.33 0.67 1.1\n",
       "X2Procedurální   0.09  0.57 -0.12  0.02 0.36 0.64 1.1\n",
       "X3Rovnost       -0.13  0.19  0.18  0.54 0.41 0.59 1.6\n",
       "X4Potřeby        0.04 -0.05  0.58  0.13 0.35 0.65 1.1\n",
       "X5Potřeby       -0.10  0.16  0.51 -0.17 0.31 0.69 1.5\n",
       "X6Procedurální  -0.02  0.62  0.13 -0.02 0.42 0.58 1.1\n",
       "X7Procedurální  -0.02  0.54  0.03  0.02 0.30 0.70 1.0\n",
       "X8Procedurální   0.12  0.61 -0.05  0.06 0.46 0.54 1.1\n",
       "X9Potřeby       -0.08  0.10  0.68  0.02 0.47 0.53 1.1\n",
       "X10Rovnost       0.04  0.22  0.11  0.47 0.36 0.64 1.5\n",
       "X11Potřeby       0.09  0.05  0.37 -0.11 0.18 0.82 1.3\n",
       "X12Zásluhy       0.29  0.16 -0.08  0.05 0.14 0.86 1.8\n",
       "X13Zásluhy       0.74  0.04 -0.02 -0.01 0.57 0.43 1.0\n",
       "X14Rovnost       0.00 -0.03  0.01  0.83 0.68 0.32 1.0\n",
       "X15Rovnost       0.15 -0.09 -0.06  0.55 0.31 0.69 1.2\n",
       "X16Potřeby       0.24 -0.06  0.49  0.06 0.33 0.67 1.5\n",
       "X17Rovnost      -0.13  0.04 -0.28  0.46 0.32 0.68 1.9\n",
       "X18Potřeby       0.19 -0.11  0.60  0.00 0.42 0.58 1.3\n",
       "X19Zásluhy       0.80  0.02  0.03  0.09 0.68 0.32 1.0\n",
       "X20Zásluhy       0.68  0.02 -0.05 -0.07 0.46 0.54 1.0\n",
       "X21Zásluhy       0.83  0.00  0.05 -0.02 0.70 0.30 1.0\n",
       "X22Rovnost       0.16  0.18 -0.09  0.42 0.31 0.69 1.8\n",
       "X23Procedurální -0.02  0.60  0.13  0.03 0.41 0.59 1.1\n",
       "X24Procedurální  0.11  0.45  0.05 -0.13 0.24 0.76 1.3\n",
       "X25Zásluhy       0.50  0.18  0.07 -0.05 0.37 0.63 1.3\n",
       "X26Procedurální  0.02  0.51 -0.19  0.06 0.29 0.71 1.3\n",
       "\n",
       "                       MR1  MR4  MR3  MR2\n",
       "SS loadings           3.11 2.91 2.08 2.09\n",
       "Proportion Var        0.12 0.11 0.08 0.08\n",
       "Cumulative Var        0.12 0.23 0.31 0.39\n",
       "Proportion Explained  0.31 0.29 0.20 0.21\n",
       "Cumulative Proportion 0.31 0.59 0.79 1.00\n",
       "\n",
       " With factor correlations of \n",
       "     MR1  MR4   MR3   MR2\n",
       "MR1 1.00 0.38  0.23  0.07\n",
       "MR4 0.38 1.00  0.19  0.30\n",
       "MR3 0.23 0.19  1.00 -0.03\n",
       "MR2 0.07 0.30 -0.03  1.00\n",
       "\n",
       "Mean item complexity =  1.3\n",
       "Test of the hypothesis that 4 factors are sufficient.\n",
       "\n",
       "The degrees of freedom for the null model are  325  and the objective function was  8.92 with Chi Square of  2991.08\n",
       "The degrees of freedom for the model are 227  and the objective function was  1.82 \n",
       "\n",
       "The root mean square of the residuals (RMSR) is  0.05 \n",
       "The df corrected root mean square of the residuals is  0.05 \n",
       "\n",
       "The harmonic number of observations is  346 with the empirical chi square  458.6  with prob <  8.5e-18 \n",
       "The total number of observations was  346  with Likelihood Chi Square =  606.47  with prob <  2.4e-36 \n",
       "\n",
       "Tucker Lewis Index of factoring reliability =  0.794\n",
       "RMSEA index =  0.069  and the 90 % confidence intervals are  0.063 0.076\n",
       "BIC =  -720.67\n",
       "Fit based upon off diagonal values = 0.96\n",
       "Measures of factor score adequacy             \n",
       "                                                   MR1  MR4  MR3  MR2\n",
       "Correlation of (regression) scores with factors   0.94 0.91 0.88 0.90\n",
       "Multiple R square of scores with factors          0.88 0.82 0.77 0.81\n",
       "Minimum correlation of possible factor scores     0.77 0.64 0.54 0.63"
      ]
     },
     "metadata": {},
     "output_type": "display_data"
    }
   ],
   "source": [
    "factors_data_4poly"
   ]
  },
  {
   "cell_type": "code",
   "execution_count": 17,
   "metadata": {},
   "outputs": [
    {
     "data": {
      "image/png": "[encoded data removed]",
      "text/plain": [
       "Plot with title \"Factor Analysis\""
      ]
     },
     "metadata": {},
     "output_type": "display_data"
    }
   ],
   "source": [
    "fa.diagram(factors_data_4poly, cut = 0.1)"
   ]
  },
  {
   "cell_type": "markdown",
   "metadata": {},
   "source": [
    "Z datasetu eliminujeme položky, které mají menší \"loading\" faktoru než 0.4, tedy položku \"X12Zásluhy\". (Viz Field, 2013, s. 692).\n",
    "\n",
    "Field, A. (2013) Discovering Statistics using SPSS, 4th edn. London: SAGE.\n"
   ]
  },
  {
   "cell_type": "code",
   "execution_count": 26,
   "metadata": {},
   "outputs": [],
   "source": [
    "# Příprava na eliminaci položky:\n",
    "j_data_copy <- copy(j_datafin) "
   ]
  },
  {
   "cell_type": "code",
   "execution_count": 27,
   "metadata": {},
   "outputs": [],
   "source": [
    "# Příprava na eliminaci položky:\n",
    "j_datafin2 <- j_data_copy[, -c(12)] "
   ]
  },
  {
   "cell_type": "code",
   "execution_count": 28,
   "metadata": {},
   "outputs": [],
   "source": [
    "# Provedení faktorové analýzy na novém datasetu bez položky 12.\n",
    "factors_data_4poly <- fa(r = j_datafin2, nfactors = 4,  cor=\"poly\", n.obs = 346, fm=\"minres\") #rotate=\"varimax\"\n",
    "factors_data_4polyvar <- fa(r = j_datafin2, nfactors = 4,  cor=\"poly\", n.obs = 346,fm=\"minres\", rotate=\"varimax\") #rotate=\"varimax\"\n",
    "factors_data_4polyob <- fa(r = j_datafin2, nfactors = 4,  cor=\"poly\", n.obs = 346,fm=\"minres\", rotate=\"oblimin\") #rotate=\"varimax\""
   ]
  },
  {
   "cell_type": "code",
   "execution_count": 29,
   "metadata": {},
   "outputs": [
    {
     "data": {
      "text/plain": [
       "Factor Analysis using method =  minres\n",
       "Call: fa(r = j_datafin2, nfactors = 4, n.obs = 346, fm = \"minres\", \n",
       "    cor = \"poly\")\n",
       "Standardized loadings (pattern matrix) based upon correlation matrix\n",
       "                  MR1   MR4   MR3   MR2   h2   u2 com\n",
       "X1Procedurální   0.10  0.51 -0.04  0.07 0.33 0.67 1.1\n",
       "X2Procedurální   0.09  0.57 -0.11  0.02 0.35 0.65 1.1\n",
       "X3Rovnost       -0.14  0.19  0.18  0.54 0.41 0.59 1.6\n",
       "X4Potřeby        0.04 -0.05  0.58  0.13 0.35 0.65 1.1\n",
       "X5Potřeby       -0.11  0.16  0.52 -0.18 0.32 0.68 1.5\n",
       "X6Procedurální  -0.02  0.62  0.13 -0.02 0.42 0.58 1.1\n",
       "X7Procedurální  -0.02  0.54  0.03  0.02 0.30 0.70 1.0\n",
       "X8Procedurální   0.13  0.62 -0.05  0.06 0.47 0.53 1.1\n",
       "X9Potřeby       -0.08  0.10  0.67  0.02 0.46 0.54 1.1\n",
       "X10Rovnost       0.05  0.22  0.10  0.47 0.37 0.63 1.5\n",
       "X11Potřeby       0.09  0.04  0.38 -0.11 0.18 0.82 1.3\n",
       "X13Zásluhy       0.70  0.05  0.00 -0.01 0.52 0.48 1.0\n",
       "X14Rovnost       0.00 -0.03  0.01  0.83 0.68 0.32 1.0\n",
       "X15Rovnost       0.14 -0.08 -0.06  0.55 0.30 0.70 1.2\n",
       "X16Potřeby       0.24 -0.06  0.48  0.06 0.33 0.67 1.5\n",
       "X17Rovnost      -0.14  0.04 -0.28  0.45 0.32 0.68 1.9\n",
       "X18Potřeby       0.20 -0.11  0.59  0.00 0.41 0.59 1.3\n",
       "X19Zásluhy       0.80  0.02  0.03  0.09 0.69 0.31 1.0\n",
       "X20Zásluhy       0.70  0.02 -0.07 -0.07 0.48 0.52 1.0\n",
       "X21Zásluhy       0.84  0.00  0.04 -0.02 0.71 0.29 1.0\n",
       "X22Rovnost       0.15  0.18 -0.09  0.42 0.30 0.70 1.8\n",
       "X23Procedurální -0.01  0.60  0.13  0.02 0.41 0.59 1.1\n",
       "X24Procedurální  0.11  0.44  0.05 -0.13 0.24 0.76 1.3\n",
       "X25Zásluhy       0.52  0.19  0.06 -0.05 0.39 0.61 1.3\n",
       "X26Procedurální  0.02  0.51 -0.19  0.06 0.29 0.71 1.3\n",
       "\n",
       "                       MR1  MR4  MR3  MR2\n",
       "SS loadings           3.01 2.87 2.08 2.08\n",
       "Proportion Var        0.12 0.11 0.08 0.08\n",
       "Cumulative Var        0.12 0.24 0.32 0.40\n",
       "Proportion Explained  0.30 0.29 0.21 0.21\n",
       "Cumulative Proportion 0.30 0.59 0.79 1.00\n",
       "\n",
       " With factor correlations of \n",
       "     MR1  MR4   MR3   MR2\n",
       "MR1 1.00 0.37  0.23  0.07\n",
       "MR4 0.37 1.00  0.19  0.30\n",
       "MR3 0.23 0.19  1.00 -0.02\n",
       "MR2 0.07 0.30 -0.02  1.00\n",
       "\n",
       "Mean item complexity =  1.3\n",
       "Test of the hypothesis that 4 factors are sufficient.\n",
       "\n",
       "The degrees of freedom for the null model are  300  and the objective function was  8.58 with Chi Square of  2881.3\n",
       "The degrees of freedom for the model are 206  and the objective function was  1.62 \n",
       "\n",
       "The root mean square of the residuals (RMSR) is  0.04 \n",
       "The df corrected root mean square of the residuals is  0.05 \n",
       "\n",
       "The harmonic number of observations is  346 with the empirical chi square  397.42  with prob <  2.8e-14 \n",
       "The total number of observations was  346  with Likelihood Chi Square =  540.83  with prob <  7.1e-32 \n",
       "\n",
       "Tucker Lewis Index of factoring reliability =  0.809\n",
       "RMSEA index =  0.068  and the 90 % confidence intervals are  0.062 0.076\n",
       "BIC =  -663.54\n",
       "Fit based upon off diagonal values = 0.96\n",
       "Measures of factor score adequacy             \n",
       "                                                   MR1  MR4  MR3  MR2\n",
       "Correlation of (regression) scores with factors   0.94 0.91 0.88 0.90\n",
       "Multiple R square of scores with factors          0.88 0.82 0.77 0.81\n",
       "Minimum correlation of possible factor scores     0.77 0.64 0.54 0.63"
      ]
     },
     "metadata": {},
     "output_type": "display_data"
    }
   ],
   "source": [
    "factors_data_4poly"
   ]
  },
  {
   "cell_type": "code",
   "execution_count": 30,
   "metadata": {},
   "outputs": [
    {
     "data": {
      "image/png": "[encoded data removed]",
      "text/plain": [
       "Plot with title \"Factor Analysis\""
      ]
     },
     "metadata": {},
     "output_type": "display_data"
    }
   ],
   "source": [
    "fa.diagram(factors_data_4poly, cut = 0.1)"
   ]
  },
  {
   "cell_type": "code",
   "execution_count": 50,
   "metadata": {},
   "outputs": [
    {
     "data": {
      "text/plain": [
       "\n",
       "Reliability analysis   \n",
       "Call: alpha(x = rov)\n",
       "\n",
       "  raw_alpha std.alpha G6(smc) average_r S/N   ase mean   sd median_r\n",
       "      0.71      0.71    0.69      0.29 2.5 0.024  5.1 0.88     0.25\n",
       "\n",
       " lower alpha upper     95% confidence boundaries\n",
       "0.66 0.71 0.75 \n",
       "\n",
       " Reliability if an item is dropped:\n",
       "           raw_alpha std.alpha G6(smc) average_r S/N alpha se  var.r med.r\n",
       "X14Rovnost      0.61      0.61    0.56      0.24 1.6    0.033 0.0013  0.25\n",
       "X15Rovnost      0.68      0.68    0.65      0.30 2.1    0.027 0.0098  0.27\n",
       "X3Rovnost       0.66      0.67    0.63      0.29 2.0    0.029 0.0094  0.25\n",
       "X10Rovnost      0.67      0.68    0.64      0.29 2.1    0.028 0.0063  0.25\n",
       "X17Rovnost      0.70      0.70    0.67      0.32 2.3    0.025 0.0098  0.29\n",
       "X22Rovnost      0.68      0.69    0.66      0.31 2.3    0.027 0.0105  0.27\n",
       "\n",
       " Item statistics \n",
       "             n raw.r std.r r.cor r.drop mean  sd\n",
       "X14Rovnost 346  0.77  0.77  0.75   0.62  5.3 1.4\n",
       "X15Rovnost 346  0.62  0.62  0.49   0.41  5.2 1.4\n",
       "X3Rovnost  346  0.66  0.65  0.55   0.46  4.9 1.4\n",
       "X10Rovnost 346  0.62  0.63  0.53   0.43  5.4 1.3\n",
       "X17Rovnost 346  0.61  0.57  0.42   0.35  4.1 1.6\n",
       "X22Rovnost 346  0.56  0.59  0.45   0.38  5.9 1.1\n",
       "\n",
       "Non missing response frequency for each item\n",
       "              1    2    3    4    5    6    7 miss\n",
       "X14Rovnost 0.01 0.03 0.09 0.13 0.24 0.33 0.17    0\n",
       "X15Rovnost 0.01 0.03 0.11 0.12 0.24 0.29 0.20    0\n",
       "X3Rovnost  0.01 0.04 0.12 0.20 0.27 0.21 0.16    0\n",
       "X10Rovnost 0.01 0.02 0.05 0.14 0.23 0.34 0.21    0\n",
       "X17Rovnost 0.05 0.11 0.25 0.20 0.16 0.16 0.07    0\n",
       "X22Rovnost 0.00 0.01 0.04 0.05 0.19 0.33 0.37    0"
      ]
     },
     "metadata": {},
     "output_type": "display_data"
    },
    {
     "data": {
      "text/plain": [
       "\n",
       "Reliability analysis   \n",
       "Call: alpha(x = pro)\n",
       "\n",
       "  raw_alpha std.alpha G6(smc) average_r S/N   ase mean  sd median_r\n",
       "      0.72      0.72    0.71      0.24 2.6 0.023    6 0.6     0.25\n",
       "\n",
       " lower alpha upper     95% confidence boundaries\n",
       "0.67 0.72 0.76 \n",
       "\n",
       " Reliability if an item is dropped:\n",
       "                raw_alpha std.alpha G6(smc) average_r S/N alpha se  var.r med.r\n",
       "X1Procedurální       0.69      0.69    0.67      0.25 2.3    0.025 0.0054  0.27\n",
       "X2Procedurální       0.69      0.69    0.67      0.24 2.2    0.025 0.0049  0.25\n",
       "X8Procedurální       0.68      0.68    0.66      0.23 2.1    0.026 0.0053  0.21\n",
       "X7Procedurální       0.70      0.70    0.69      0.25 2.4    0.025 0.0050  0.26\n",
       "X23Procedurální      0.68      0.69    0.67      0.24 2.2    0.026 0.0056  0.24\n",
       "X6Procedurální       0.67      0.68    0.65      0.23 2.1    0.027 0.0053  0.21\n",
       "X26Procedurální      0.70      0.71    0.68      0.26 2.4    0.024 0.0043  0.27\n",
       "X24Procedurální      0.70      0.71    0.69      0.26 2.4    0.024 0.0046  0.27\n",
       "\n",
       " Item statistics \n",
       "                  n raw.r std.r r.cor r.drop mean   sd\n",
       "X1Procedurální  346  0.55  0.58  0.48   0.41  6.2 0.84\n",
       "X2Procedurální  346  0.58  0.59  0.50   0.41  6.0 0.99\n",
       "X8Procedurální  346  0.61  0.64  0.57   0.48  6.4 0.82\n",
       "X7Procedurální  346  0.53  0.54  0.42   0.36  6.3 0.99\n",
       "X23Procedurální 346  0.62  0.61  0.52   0.44  5.8 1.11\n",
       "X6Procedurální  346  0.68  0.65  0.58   0.50  5.2 1.25\n",
       "X26Procedurální 346  0.54  0.53  0.42   0.34  6.0 1.12\n",
       "X24Procedurální 346  0.54  0.53  0.41   0.35  5.9 1.05\n",
       "\n",
       "Non missing response frequency for each item\n",
       "                   1    2    3    4    5    6    7 miss\n",
       "X1Procedurální  0.00 0.00 0.01 0.03 0.10 0.43 0.43    0\n",
       "X2Procedurální  0.00 0.00 0.00 0.08 0.22 0.32 0.38    0\n",
       "X8Procedurální  0.00 0.00 0.01 0.03 0.09 0.35 0.52    0\n",
       "X7Procedurální  0.00 0.00 0.01 0.06 0.09 0.32 0.52    0\n",
       "X23Procedurální 0.01 0.00 0.02 0.10 0.18 0.40 0.29    0\n",
       "X6Procedurální  0.00 0.03 0.08 0.16 0.29 0.31 0.14    0\n",
       "X26Procedurální 0.01 0.01 0.01 0.07 0.16 0.34 0.40    0\n",
       "X24Procedurální 0.00 0.01 0.03 0.03 0.23 0.38 0.32    0"
      ]
     },
     "metadata": {},
     "output_type": "display_data"
    },
    {
     "data": {
      "text/plain": [
       "\n",
       "Reliability analysis   \n",
       "Call: alpha(x = zas)\n",
       "\n",
       "  raw_alpha std.alpha G6(smc) average_r S/N   ase mean   sd median_r\n",
       "       0.8       0.8    0.76       0.5   4 0.018  5.8 0.75     0.51\n",
       "\n",
       " lower alpha upper     95% confidence boundaries\n",
       "0.76 0.8 0.83 \n",
       "\n",
       " Reliability if an item is dropped:\n",
       "           raw_alpha std.alpha G6(smc) average_r S/N alpha se  var.r med.r\n",
       "X21Zásluhy      0.70      0.71    0.64      0.45 2.4    0.028 0.0129  0.45\n",
       "X19Zásluhy      0.71      0.71    0.64      0.45 2.5    0.027 0.0117  0.49\n",
       "X13Zásluhy      0.76      0.76    0.69      0.52 3.2    0.022 0.0081  0.49\n",
       "X20Zásluhy      0.80      0.80    0.73      0.57 4.1    0.019 0.0016  0.56\n",
       "\n",
       " Item statistics \n",
       "             n raw.r std.r r.cor r.drop mean   sd\n",
       "X21Zásluhy 346  0.84  0.84  0.77   0.69  5.9 0.96\n",
       "X19Zásluhy 346  0.82  0.83  0.76   0.68  5.8 0.89\n",
       "X13Zásluhy 346  0.77  0.77  0.66   0.58  5.8 0.95\n",
       "X20Zásluhy 346  0.73  0.72  0.56   0.50  5.8 1.00\n",
       "\n",
       "Non missing response frequency for each item\n",
       "              1    2    3    4    5    6    7 miss\n",
       "X21Zásluhy 0.00 0.01 0.00 0.05 0.24 0.40 0.30    0\n",
       "X19Zásluhy 0.00 0.01 0.01 0.04 0.29 0.44 0.22    0\n",
       "X13Zásluhy 0.00 0.01 0.02 0.05 0.27 0.42 0.23    0\n",
       "X20Zásluhy 0.01 0.00 0.01 0.09 0.22 0.45 0.24    0"
      ]
     },
     "metadata": {},
     "output_type": "display_data"
    },
    {
     "data": {
      "text/plain": [
       "\n",
       "Reliability analysis   \n",
       "Call: alpha(x = pot)\n",
       "\n",
       "  raw_alpha std.alpha G6(smc) average_r S/N   ase mean   sd median_r\n",
       "      0.69       0.7    0.67      0.28 2.3 0.025  4.6 0.82     0.27\n",
       "\n",
       " lower alpha upper     95% confidence boundaries\n",
       "0.64 0.69 0.74 \n",
       "\n",
       " Reliability if an item is dropped:\n",
       "           raw_alpha std.alpha G6(smc) average_r S/N alpha se  var.r med.r\n",
       "X9Potřeby       0.61      0.62    0.59      0.25 1.6    0.033 0.0084  0.22\n",
       "X18Potřeby      0.63      0.63    0.60      0.26 1.7    0.030 0.0075  0.25\n",
       "X4Potřeby       0.65      0.66    0.62      0.28 1.9    0.029 0.0057  0.26\n",
       "X5Potřeby       0.67      0.67    0.64      0.29 2.0    0.028 0.0098  0.29\n",
       "X16Potřeby      0.66      0.66    0.63      0.28 1.9    0.028 0.0088  0.30\n",
       "X11Potřeby      0.69      0.69    0.65      0.31 2.2    0.026 0.0062  0.31\n",
       "\n",
       " Item statistics \n",
       "             n raw.r std.r r.cor r.drop mean  sd\n",
       "X9Potřeby  346  0.74  0.71  0.64   0.53  3.6 1.5\n",
       "X18Potřeby 346  0.68  0.68  0.60   0.49  4.7 1.3\n",
       "X4Potřeby  346  0.63  0.63  0.52   0.42  4.9 1.3\n",
       "X5Potřeby  346  0.57  0.59  0.45   0.38  4.8 1.1\n",
       "X16Potřeby 346  0.58  0.62  0.50   0.41  5.7 1.0\n",
       "X11Potřeby 346  0.58  0.55  0.40   0.33  4.0 1.5\n",
       "\n",
       "Non missing response frequency for each item\n",
       "              1    2    3    4    5    6    7 miss\n",
       "X9Potřeby  0.08 0.19 0.23 0.20 0.18 0.09 0.03    0\n",
       "X18Potřeby 0.01 0.05 0.12 0.19 0.33 0.22 0.07    0\n",
       "X4Potřeby  0.01 0.03 0.09 0.25 0.29 0.23 0.11    0\n",
       "X5Potřeby  0.01 0.03 0.07 0.25 0.41 0.18 0.05    0\n",
       "X16Potřeby 0.00 0.01 0.03 0.05 0.28 0.41 0.22    0\n",
       "X11Potřeby 0.05 0.14 0.18 0.22 0.27 0.11 0.03    0"
      ]
     },
     "metadata": {},
     "output_type": "display_data"
    }
   ],
   "source": [
    "# Výpočet Kronbachovy alfy\n",
    "zas <- data.frame(j_datafin2[,c(20,18,12,19)]) #zasluhy \n",
    "pro <- data.frame(j_datafin2[,c(1,2,8,7,22,6,25,0,23)]) #procedural\n",
    "rov <- data.frame(j_datafin2[,c(13,14,3,10,16,21)])  #rovnost \n",
    "pot <- data.frame(j_datafin2[,c(9,17,4,5,15,11)]) #potreby\n",
    "\n",
    "alpha(rov)\n",
    "alpha(pro)\n",
    "alpha(zas)\n",
    "alpha(pot)"
   ]
  },
  {
   "cell_type": "markdown",
   "metadata": {},
   "source": [
    "***Konec***\n",
    "\n"
   ]
  }
 ],
 "metadata": {
  "kernelspec": {
   "display_name": "R",
   "language": "R",
   "name": "ir"
  },
  "language_info": {
   "codemirror_mode": "r",
   "file_extension": ".r",
   "mimetype": "text/x-r-source",
   "name": "R",
   "pygments_lexer": "r",
   "version": "3.5.1"
  }
 },
 "nbformat": 4,
 "nbformat_minor": 2
}
